{
 "cells": [
  {
   "cell_type": "code",
   "execution_count": 1,
   "metadata": {},
   "outputs": [
    {
     "name": "stdout",
     "output_type": "stream",
     "text": [
      "{'DSID': -1,\n",
      " 'FIDSet': None,\n",
      " 'MExtent': 'nan nan',\n",
      " 'OIDFieldName': 'FID',\n",
      " 'ZExtent': 'nan nan',\n",
      " 'baseName': 'province',\n",
      " 'canVersion': False,\n",
      " 'catalogPath': '..\\\\..\\\\..\\\\..\\\\data\\\\Canada\\\\province.shp',\n",
      " 'changeTracked': False,\n",
      " 'children': [],\n",
      " 'childrenExpanded': True,\n",
      " 'dataElementType': 'DEShapeFile',\n",
      " 'dataType': 'ShapeFile',\n",
      " 'datasetType': 'FeatureClass',\n",
      " 'dateAccessed': '2024-02-06T19:49:04.000',\n",
      " 'dateCreated': '2021-03-16T18:20:08.000',\n",
      " 'dateModified': '2024-01-31T14:30:36.000',\n",
      " 'extension': 'shp',\n",
      " 'extent': <Extent object at 0x1451ff9dc10[0x1451ff9d0f0]>,\n",
      " 'featureType': 'Simple',\n",
      " 'fields': [<Field object at 0x1451ff9d6d0[0x1452b07af50]>,\n",
      "            <Field object at 0x1451ff9dc70[0x1452b07af70]>,\n",
      "            <Field object at 0x1451e194820[0x1452b07afb0]>,\n",
      "            <Field object at 0x1452b162640[0x1452b16a030]>,\n",
      "            <Field object at 0x1452b1626a0[0x1452b16a070]>,\n",
      "            <Field object at 0x1452b162700[0x1452b07ae10]>,\n",
      "            <Field object at 0x1452b162760[0x1452b16a0d0]>,\n",
      "            <Field object at 0x1452b162550[0x1452b16a110]>],\n",
      " 'file': 'province.shp',\n",
      " 'fullPropsRetrieved': True,\n",
      " 'geometryStorage': '',\n",
      " 'hasM': False,\n",
      " 'hasOID': True,\n",
      " 'hasSpatialIndex': True,\n",
      " 'hasZ': False,\n",
      " 'indexes': [<Index object at 0x1452b1623a0[0x1452b07afd0]>],\n",
      " 'isCompressed': False,\n",
      " 'isVersioned': False,\n",
      " 'metadataRetrieved': False,\n",
      " 'name': 'province.shp',\n",
      " 'path': '..\\\\..\\\\..\\\\..\\\\data\\\\Canada',\n",
      " 'shapeFieldName': 'Shape',\n",
      " 'shapeType': 'Polygon',\n",
      " 'size': 5601826,\n",
      " 'spatialReference': <SpatialReference object at 0x1452b162370[0x1452b16a0f0]>,\n",
      " 'supportsBigInteger': False,\n",
      " 'supportsBigObjectID': False,\n",
      " 'supportsDateOnly': False,\n",
      " 'supportsTimeOnly': False,\n",
      " 'supportsTimestampOffset': False,\n",
      " 'workspace': <geoprocessing describe data object object at 0x000001451FF4CF90>}\n"
     ]
    }
   ],
   "source": [
    "import arcpy\n",
    "from pprint import pprint \n",
    "\n",
    "path = \"..\\..\\..\\..\\data\\Canada\\province.shp\"\n",
    "desc = arcpy.da.Describe(path)\n",
    "pprint(desc)"
   ]
  }
 ],
 "metadata": {
  "kernelspec": {
   "display_name": "gis4207",
   "language": "python",
   "name": "python3"
  },
  "language_info": {
   "codemirror_mode": {
    "name": "ipython",
    "version": 3
   },
   "file_extension": ".py",
   "mimetype": "text/x-python",
   "name": "python",
   "nbconvert_exporter": "python",
   "pygments_lexer": "ipython3",
   "version": "3.9.18"
  }
 },
 "nbformat": 4,
 "nbformat_minor": 2
}
